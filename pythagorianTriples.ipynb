import numpy as np
import matplotlib.pyplot as plt
plt.style.use('ggplot')

ulim=[-100,100]
vlim=[-100,100]

#z_array = np.array([ [complex(u, v)**2,complex(u, v)**2*2,complex(u, v)**2*3] for u in range(ulim[0],ulim[1]) for v in range(vlim[0],vlim[1]) ] )
z_array = np.array([ [complex(u, v)**2] for u in range(ulim[0],ulim[1]) for v in range(vlim[0],vlim[1]) ] )
axis = np.array([ [comp.real,comp.imag] for comp in z_array ])

# plot
plt.rcParams["figure.figsize"] = [7,7]
plt.rcParams["figure.autolayout"] = True

plt.xlim(-1010, 1010)
plt.ylim(-1010, 1010)
plt.scatter(axis[:,0], axis[:,1], s=10)
plt.show()
